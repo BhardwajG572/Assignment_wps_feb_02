{
 "cells": [
  {
   "cell_type": "markdown",
   "id": "ca520089",
   "metadata": {},
   "source": [
    "### Q 1 :"
   ]
  },
  {
   "cell_type": "code",
   "execution_count": 29,
   "id": "29282744",
   "metadata": {},
   "outputs": [
    {
     "name": "stdout",
     "output_type": "stream",
     "text": [
      "1\n",
      "2\n",
      "3\n",
      "4\n",
      "5\n",
      "6\n",
      "7\n",
      "8\n",
      "9\n"
     ]
    }
   ],
   "source": [
    "# While loop is used when we want to check some condition and along with that certain changes in processes.\n",
    "# for example :\n",
    "\n",
    "count = 1\n",
    "while(count<10):\n",
    "    print(count)\n",
    "    count=count+1\n"
   ]
  },
  {
   "cell_type": "code",
   "execution_count": 30,
   "id": "36e08d77",
   "metadata": {},
   "outputs": [],
   "source": [
    "# Here we checked the condition and furthur we updated the variable."
   ]
  },
  {
   "cell_type": "code",
   "execution_count": 33,
   "id": "566c9027",
   "metadata": {},
   "outputs": [
    {
     "name": "stdout",
     "output_type": "stream",
     "text": [
      "0\n",
      "2\n",
      "4\n",
      "6\n",
      "8\n",
      "10\n",
      "12\n",
      "14\n",
      "16\n",
      "18\n",
      "20\n",
      "22\n",
      "24\n",
      "26\n",
      "28\n",
      "30\n",
      "32\n",
      "34\n",
      "36\n",
      "38\n",
      "40\n",
      "42\n",
      "44\n",
      "46\n",
      "48\n",
      "50\n",
      "52\n",
      "54\n",
      "56\n",
      "58\n",
      "60\n",
      "62\n",
      "64\n",
      "66\n",
      "68\n",
      "70\n",
      "72\n",
      "74\n",
      "76\n",
      "78\n",
      "80\n",
      "82\n",
      "84\n",
      "86\n",
      "88\n",
      "90\n",
      "92\n",
      "94\n",
      "96\n",
      "98\n"
     ]
    }
   ],
   "source": [
    "# In For loop , if we know the loop and want to iterate throught it , then i think we would use for loop:\n",
    "# In for loop , we can't be able to update the value .\n",
    "px= range(0,100,2)\n",
    "for i in px\n",
    "    print(i)\n",
    "    "
   ]
  },
  {
   "cell_type": "markdown",
   "id": "d9d30276",
   "metadata": {},
   "source": [
    "### Q 2 :"
   ]
  },
  {
   "cell_type": "code",
   "execution_count": 24,
   "id": "fcb7a928",
   "metadata": {},
   "outputs": [
    {
     "name": "stdout",
     "output_type": "stream",
     "text": [
      "55\n"
     ]
    }
   ],
   "source": [
    "SSum = 0\n",
    "for i in range(0,11,1):\n",
    "    SSum = SSum+i\n",
    "print(SSum)    \n"
   ]
  },
  {
   "cell_type": "code",
   "execution_count": 25,
   "id": "b6cda746",
   "metadata": {},
   "outputs": [
    {
     "name": "stdout",
     "output_type": "stream",
     "text": [
      "3628800\n"
     ]
    }
   ],
   "source": [
    "product = 1\n",
    "for i in range(1,11,1):\n",
    "    product = product*i\n",
    "print(product)    \n",
    "\n"
   ]
  },
  {
   "cell_type": "markdown",
   "id": "66a63c7d",
   "metadata": {},
   "source": [
    "### Q 3 : "
   ]
  },
  {
   "cell_type": "code",
   "execution_count": 5,
   "id": "cc0795ca",
   "metadata": {},
   "outputs": [
    {
     "name": "stdout",
     "output_type": "stream",
     "text": [
      "enter the unit consumed : 310\n",
      "2250\n"
     ]
    }
   ],
   "source": [
    "unit = int(input(\"enter the unit consumed : \"))\n",
    "if unit<=100:\n",
    "    bill=unit*4.5\n",
    "    \n",
    "elif  unit>100 and   unit<=200:\n",
    "    bill = 450 + (unit-100)*6\n",
    "    \n",
    "elif unit>200 and unit<=300:\n",
    "    bill = 450+600+ (unit-100)*10\n",
    "    \n",
    "else :\n",
    "    bill = 450+600 + (10*100)+ (unit-300)*20\n",
    "print(bill)    "
   ]
  },
  {
   "cell_type": "markdown",
   "id": "c9888e7c",
   "metadata": {},
   "source": [
    "### Q 4 :"
   ]
  },
  {
   "cell_type": "code",
   "execution_count": 17,
   "id": "89ef4064",
   "metadata": {},
   "outputs": [],
   "source": [
    "p = list(range(1,101))"
   ]
  },
  {
   "cell_type": "code",
   "execution_count": null,
   "id": "b067b0fb",
   "metadata": {},
   "outputs": [],
   "source": [
    " "
   ]
  },
  {
   "cell_type": "code",
   "execution_count": 21,
   "id": "755716e2",
   "metadata": {},
   "outputs": [
    {
     "name": "stdout",
     "output_type": "stream",
     "text": [
      "[1, 8, 27, 64, 125, 216, 343, 512, 729, 1000, 1331, 1728, 2197, 2744, 3375, 4096, 4913, 5832, 6859, 8000, 9261, 10648, 12167, 13824, 15625, 17576, 19683, 21952, 24389, 27000, 29791, 32768, 35937, 39304, 42875, 46656, 50653, 54872, 59319, 64000, 68921, 74088, 79507, 85184, 91125, 97336, 103823, 110592, 117649, 125000, 132651, 140608, 148877, 157464, 166375, 175616, 185193, 195112, 205379, 216000, 226981, 238328, 250047, 262144, 274625, 287496, 300763, 314432, 328509, 343000, 357911, 373248, 389017, 405224, 421875, 438976, 456533, 474552, 493039, 512000, 531441, 551368, 571787, 592704, 614125, 636056, 658503, 681472, 704969, 729000, 753571, 778688, 804357, 830584, 857375, 884736, 912673, 941192, 970299, 1000000]\n",
      "[8, 64, 125, 216, 512, 1000, 1728, 2744, 3375, 4096, 5832, 8000, 10648, 13824, 15625, 17576, 21952, 27000, 32768, 39304, 42875, 46656, 54872, 64000, 74088, 85184, 91125, 97336, 110592, 125000, 140608, 157464, 166375, 175616, 195112, 216000, 238328, 262144, 274625, 287496, 314432, 343000, 373248, 405224, 421875, 438976, 474552, 512000, 551368, 592704, 614125, 636056, 681472, 729000, 778688, 830584, 857375, 884736, 941192, 1000000]\n"
     ]
    }
   ],
   "source": [
    "res = []\n",
    "for i in p:\n",
    "    res.append(i*i*i)\n",
    "print(res)  \n",
    "\n",
    "list_4_5 = []\n",
    "for x in res:\n",
    "    if x%4==0 or x%5==0:\n",
    "        list_4_5.append(x)\n",
    "        \n",
    "print(list_4_5)"
   ]
  },
  {
   "cell_type": "markdown",
   "id": "082e347b",
   "metadata": {},
   "source": [
    "### Q . 5 "
   ]
  },
  {
   "cell_type": "code",
   "execution_count": 27,
   "id": "a2ffc555",
   "metadata": {},
   "outputs": [
    {
     "name": "stdout",
     "output_type": "stream",
     "text": [
      "No.of vowels in this statement is :  11\n"
     ]
    }
   ],
   "source": [
    "string = \"I want to become a data scientist\"\n",
    "count = 0\n",
    "for i in string:\n",
    "    if i=='a' or i=='e' or i=='i' or i=='o' or i=='u':\n",
    "        count=count+1\n",
    "        \n",
    "print(\"No.of vowels in this statement is : \" , count)        "
   ]
  },
  {
   "cell_type": "code",
   "execution_count": null,
   "id": "929bbc9c",
   "metadata": {},
   "outputs": [],
   "source": []
  }
 ],
 "metadata": {
  "kernelspec": {
   "display_name": "Python 3 (ipykernel)",
   "language": "python",
   "name": "python3"
  },
  "language_info": {
   "codemirror_mode": {
    "name": "ipython",
    "version": 3
   },
   "file_extension": ".py",
   "mimetype": "text/x-python",
   "name": "python",
   "nbconvert_exporter": "python",
   "pygments_lexer": "ipython3",
   "version": "3.9.12"
  }
 },
 "nbformat": 4,
 "nbformat_minor": 5
}
